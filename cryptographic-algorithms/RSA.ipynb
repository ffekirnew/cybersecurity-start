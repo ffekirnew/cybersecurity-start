{
 "cells": [
  {
   "cell_type": "markdown",
   "metadata": {},
   "source": [
    "# The RSA Algorithm"
   ]
  },
  {
   "attachments": {},
   "cell_type": "markdown",
   "metadata": {},
   "source": [
    "## A. Encryption"
   ]
  },
  {
   "attachments": {},
   "cell_type": "markdown",
   "metadata": {},
   "source": [
    "### <u>The Plan (Algorithm)</u>"
   ]
  },
  {
   "attachments": {},
   "cell_type": "markdown",
   "metadata": {},
   "source": [
    "1. To encrypt messages using a particular key (n, e), we ﬁrst translate a plaintext message M\n",
    "into sequences of integers. \n",
    "\n",
    "    a. We ﬁrst translate each plaintext letter into a two-digit number, using the same translation we employed for shift ciphers, with one key diﬀerence.\n",
    "    \n",
    "    b. Then, we concatenate these two-digit numbers into strings of digits. "
   ]
  },
  {
   "cell_type": "code",
   "execution_count": 2,
   "metadata": {},
   "outputs": [],
   "source": [
    "def mod_26_equivalent(letter):\n",
    "    ascii_value = ord(letter.lower())\n",
    "\n",
    "    return ascii_value - 97\n",
    "\n",
    "def translate_message(message):\n",
    "    translated = \"\"\n",
    "\n",
    "    for charachter in message:\n",
    "        if 'a' < charachter <= 'z':\n",
    "            equivalent_number = mod_26_equivalent(charachter)\n",
    "\n",
    "            if equivalent_number < 10:\n",
    "                translated += '0'\n",
    "            \n",
    "            translated += str(equivalent_number)\n",
    "\n",
    "    return translated"
   ]
  },
  {
   "attachments": {},
   "cell_type": "markdown",
   "metadata": {},
   "source": [
    "2. Next, we divide this string into equally sized blocks of 2N digits, where 2N is the largest\n",
    "even number such that the number 2525 … 25 with 2N digits does not exceed n. (When neces-\n",
    "sary, we pad the plaintext message with dummy Xs to make the last block the same size as all\n",
    "other blocks.)"
   ]
  },
  {
   "cell_type": "code",
   "execution_count": 3,
   "metadata": {},
   "outputs": [],
   "source": [
    "import math\n",
    "\n",
    "def find_block_size(n):\n",
    "    # Find the largest even number 2N such that 2525 ... 25 with 2N digits does not exceed n\n",
    "    digits_needed = math.ceil(math.log10(n))\n",
    "    block_size = digits_needed // 2\n",
    "    return block_size"
   ]
  },
  {
   "cell_type": "code",
   "execution_count": 4,
   "metadata": {},
   "outputs": [],
   "source": [
    "def divide_into_blocks(translated_message, block_size):\n",
    "    # Divide the translated message into equally sized blocks of 2N digits\n",
    "    blocks = []\n",
    "    num_blocks = math.ceil(len(translated_message) / block_size)\n",
    "    padded_message = translated_message.ljust(num_blocks * block_size, \"X\")\n",
    "    \n",
    "    for i in range(0, len(padded_message), block_size):\n",
    "        block = int(padded_message[i:i+block_size])\n",
    "        blocks.append(block)\n",
    "    return blocks"
   ]
  },
  {
   "attachments": {},
   "cell_type": "markdown",
   "metadata": {},
   "source": [
    "3. After these steps, we have translated the plaintext message M into a sequence of integers\n",
    "m1 , m2 , … , mk for some integer k. Encryption proceeds by transforming each block mi to a\n",
    "ciphertext block ci . This is done using the function:\n",
    "\n",
    "        c = m^e (mod n)"
   ]
  },
  {
   "cell_type": "code",
   "execution_count": 5,
   "metadata": {},
   "outputs": [],
   "source": [
    "def fast_modular_exponentiation(base, exponent, modulus):\n",
    "    # Algorithm for fast modular exponentiation\n",
    "    result = 1\n",
    "    while exponent > 0:\n",
    "        if exponent % 2 == 1:\n",
    "            result = (result * base) % modulus\n",
    "        base = (base ** 2) % modulus\n",
    "        exponent = exponent // 2\n",
    "    return result"
   ]
  },
  {
   "cell_type": "markdown",
   "metadata": {},
   "source": [
    "### Altogether"
   ]
  },
  {
   "cell_type": "code",
   "execution_count": 14,
   "metadata": {},
   "outputs": [],
   "source": [
    "def rsa_encrypt(message, e, n):\n",
    "    translated_message = translate_message(message)\n",
    "    print(translated_message)\n",
    "    block_size = find_block_size(n)\n",
    "    blocks = divide_into_blocks(translated_message, block_size)\n",
    "    print(blocks)\n",
    "    \n",
    "    ciphertext = []\n",
    "    for block in blocks:\n",
    "        c = fast_modular_exponentiation(block, e, n)\n",
    "        ciphertext.append(c)\n",
    "    \n",
    "    return ciphertext"
   ]
  },
  {
   "cell_type": "markdown",
   "metadata": {},
   "source": [
    "### Demonstration"
   ]
  },
  {
   "cell_type": "code",
   "execution_count": 16,
   "metadata": {},
   "outputs": [
    {
     "name": "stdout",
     "output_type": "stream",
     "text": [
      "0217241519140617150724110614170819071218\n",
      "[0, 2, 1, 7, 2, 4, 1, 5, 1, 9, 1, 4, 0, 6, 1, 7, 1, 5, 0, 7, 2, 4, 1, 1, 0, 6, 1, 4, 1, 7, 0, 8, 1, 9, 0, 7, 1, 2, 1, 8]\n",
      "[0, 4, 1, 7, 4, 2, 1, 3, 1, 11, 1, 2, 0, 6, 1, 7, 1, 3, 0, 7, 4, 2, 1, 1, 0, 6, 1, 2, 1, 7, 0, 8, 1, 11, 0, 7, 1, 4, 1, 8]\n"
     ]
    }
   ],
   "source": [
    "plain_text = \"cryptographyalgorithms\"\n",
    "cipher_text = rsa_encrypt(plain_text, 5, 14)\n",
    "\n",
    "print(cipher_text)"
   ]
  },
  {
   "cell_type": "code",
   "execution_count": null,
   "metadata": {},
   "outputs": [],
   "source": []
  }
 ],
 "metadata": {
  "kernelspec": {
   "display_name": "Python 3",
   "language": "python",
   "name": "python3"
  },
  "language_info": {
   "codemirror_mode": {
    "name": "ipython",
    "version": 3
   },
   "file_extension": ".py",
   "mimetype": "text/x-python",
   "name": "python",
   "nbconvert_exporter": "python",
   "pygments_lexer": "ipython3",
   "version": "3.11.2"
  },
  "orig_nbformat": 4
 },
 "nbformat": 4,
 "nbformat_minor": 2
}
