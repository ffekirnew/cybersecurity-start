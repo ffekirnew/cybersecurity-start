{
 "cells": [
  {
   "attachments": {},
   "cell_type": "markdown",
   "metadata": {},
   "source": [
    "# Affine Encryption Algorithm"
   ]
  },
  {
   "attachments": {},
   "cell_type": "markdown",
   "metadata": {},
   "source": [
    "## Formula:\n",
    "    \n",
    "        E(x) = (ax + b) (mod 26)"
   ]
  },
  {
   "attachments": {},
   "cell_type": "markdown",
   "metadata": {},
   "source": [
    "### A. Encryption (Ciphering)\n",
    "\n",
    "#### <u> The plan (algorithm) </u>:\n",
    "1. Convert the letter to a number between 0 - 26 (lukily we only have 26 letters to take care of!)"
   ]
  },
  {
   "cell_type": "code",
   "execution_count": 2,
   "metadata": {},
   "outputs": [],
   "source": [
    "def mod_26_equivalent(letter):\n",
    "    ascii_value = ord(letter.lower())\n",
    "\n",
    "    return ascii_value - 97"
   ]
  },
  {
   "attachments": {},
   "cell_type": "markdown",
   "metadata": {},
   "source": [
    "2. Find the number affine will give, using two other secret keys"
   ]
  },
  {
   "cell_type": "code",
   "execution_count": 3,
   "metadata": {},
   "outputs": [],
   "source": [
    "def cipher(first_number, second_number, x):\n",
    "    y = (first_number * x + second_number) % 26\n",
    "    return y"
   ]
  },
  {
   "attachments": {},
   "cell_type": "markdown",
   "metadata": {},
   "source": [
    "3. Convert the new number back into an actual letter in the alphabet"
   ]
  },
  {
   "cell_type": "code",
   "execution_count": 4,
   "metadata": {},
   "outputs": [],
   "source": [
    "def letter_equivalent(number):\n",
    "    return chr(number + 97)"
   ]
  },
  {
   "attachments": {},
   "cell_type": "markdown",
   "metadata": {},
   "source": [
    "4. Record it and move on. Sort of done on the way"
   ]
  },
  {
   "attachments": {},
   "cell_type": "markdown",
   "metadata": {},
   "source": [
    "#### <u>All together (Implementation)</u>"
   ]
  },
  {
   "cell_type": "code",
   "execution_count": 15,
   "metadata": {},
   "outputs": [],
   "source": [
    "def affine_cipher(a, b, plain_text):\n",
    "    cipher_text = \"\" # to incrementally store the converted cipher text in\n",
    "\n",
    "    for charachter in plain_text:\n",
    "        if 'a' <= charachter <= 'z':\n",
    "            number_eq_of_charachter = mod_26_equivalent(charachter) # step 1\n",
    "            ciphered_number = cipher(a, b, number_eq_of_charachter) # step 2\n",
    "            ciphered_letter = letter_equivalent(ciphered_number) # step 3\n",
    "\n",
    "            cipher_text += ciphered_letter # step 4\n",
    "        else:\n",
    "            cipher_text += charachter\n",
    "    \n",
    "    return cipher_text"
   ]
  },
  {
   "attachments": {},
   "cell_type": "markdown",
   "metadata": {},
   "source": [
    "### B. Deciphering\n",
    "Lets rearrange the formula (remember, we are now trying to find y):\n",
    "\n",
    "        let y = E(x)\n",
    "\n",
    "so our formula now is:\n",
    "\n",
    "        y = (ax + b) (mod 26)\n",
    "        y - b = (ax) (mod 26)\n",
    "        ax = (y - b) (mod 26)\n",
    "        a^-1 * ax = a^-1 * (y - b) (mod 26)\n",
    "        x = a^-1 * (y - b) (mod 26)"
   ]
  },
  {
   "attachments": {},
   "cell_type": "markdown",
   "metadata": {},
   "source": [
    "#### <u> The Plan (algorithm) </u>"
   ]
  },
  {
   "attachments": {},
   "cell_type": "markdown",
   "metadata": {},
   "source": [
    "1. Find the `\"inverse\"` of the first number, since `a^-1` is not being helpful there!"
   ]
  },
  {
   "cell_type": "code",
   "execution_count": 6,
   "metadata": {},
   "outputs": [
    {
     "name": "stdout",
     "output_type": "stream",
     "text": [
      "9\n",
      "21\n"
     ]
    }
   ],
   "source": [
    "def inverse(a):\n",
    "    for i in range(1, 26):\n",
    "        if (i * a) % 26 == 1:\n",
    "            return i\n",
    "\n",
    "print(inverse(3))\n",
    "print(inverse(5))"
   ]
  },
  {
   "attachments": {},
   "cell_type": "markdown",
   "metadata": {},
   "source": [
    "2. Once we find and substitute the inverse of a in, we can just do the same things as before.\n",
    "    a. Find the number equvalents\n",
    "    b. Find the affine deciphered number\n",
    "    c. Find the letter equivalent the these numbers\n",
    "    d. Record it and move on\n",
    "\n",
    "but first we will need a function to decipher it for us, using the formula."
   ]
  },
  {
   "cell_type": "code",
   "execution_count": 7,
   "metadata": {},
   "outputs": [],
   "source": [
    "def decipher(first_number, second_number, y):\n",
    "    x = first_number * (y - second_number) % 26\n",
    "    return x"
   ]
  },
  {
   "attachments": {},
   "cell_type": "markdown",
   "metadata": {},
   "source": [
    "#### <u>Altogether (Implementation) </u>"
   ]
  },
  {
   "cell_type": "code",
   "execution_count": 16,
   "metadata": {},
   "outputs": [],
   "source": [
    "def affine_decipher(a, b, cipher_text):\n",
    "    plain_text = \"\" # to incrementally store the converted plain text in\n",
    "    inverse_a = inverse(a)\n",
    "\n",
    "    for charachter in cipher_text:\n",
    "        if 'a' <= charachter <= 'z':\n",
    "            number_eq_of_charachter = mod_26_equivalent(charachter) # step 1\n",
    "            deciphered_number = decipher(inverse_a, b, number_eq_of_charachter) # step 2\n",
    "            deciphered_letter = letter_equivalent(deciphered_number) # step 3\n",
    "\n",
    "            plain_text += deciphered_letter # step 4\n",
    "        \n",
    "        else:\n",
    "            plain_text += charachter\n",
    "    \n",
    "    return plain_text"
   ]
  },
  {
   "attachments": {},
   "cell_type": "markdown",
   "metadata": {},
   "source": [
    "## Demonstration"
   ]
  },
  {
   "cell_type": "code",
   "execution_count": 22,
   "metadata": {},
   "outputs": [
    {
     "name": "stdout",
     "output_type": "stream",
     "text": [
      "Encrypted text: Mdqnmxpuxk Uqruxs rp umx lvpu djxpvlx cvvuidgg ngzi xexk.\n",
      "Decrypted text: Manchester United is the most awesome football club ever.\n"
     ]
    }
   ],
   "source": [
    "plain_text = \"Manchester United is the most awesome football club ever.\"\n",
    "\n",
    "cipher_text = affine_cipher(5, 3, plain_text)\n",
    "print(\"Encrypted text:\", cipher_text)\n",
    "\n",
    "back_to_plain_text = affine_decipher(5, 3, cipher_text)\n",
    "print(\"Decrypted text:\", back_to_plain_text)"
   ]
  }
 ],
 "metadata": {
  "kernelspec": {
   "display_name": "Python 3",
   "language": "python",
   "name": "python3"
  },
  "language_info": {
   "codemirror_mode": {
    "name": "ipython",
    "version": 3
   },
   "file_extension": ".py",
   "mimetype": "text/x-python",
   "name": "python",
   "nbconvert_exporter": "python",
   "pygments_lexer": "ipython3",
   "version": "3.11.2"
  },
  "orig_nbformat": 4
 },
 "nbformat": 4,
 "nbformat_minor": 2
}
